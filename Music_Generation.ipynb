{
 "cells": [
  {
   "cell_type": "markdown",
   "metadata": {},
   "source": [
    "# Music Generation using Meta's MusicGen "
   ]
  },
  {
   "cell_type": "markdown",
   "metadata": {},
   "source": [
    "### Library imports"
   ]
  },
  {
   "cell_type": "code",
   "execution_count": 1,
   "metadata": {},
   "outputs": [],
   "source": [
    "from audiocraft.models import MusicGen\n",
    "from audiocraft.data.audio import audio_write\n",
    "import torchaudio\n",
    "import gradio as gr\n",
    "import warnings\n",
    "warnings.filterwarnings('ignore')"
   ]
  },
  {
   "cell_type": "markdown",
   "metadata": {},
   "source": [
    "### Model imports"
   ]
  },
  {
   "cell_type": "code",
   "execution_count": 2,
   "metadata": {},
   "outputs": [],
   "source": [
    "model = MusicGen.get_pretrained('melody')"
   ]
  },
  {
   "cell_type": "code",
   "execution_count": 3,
   "metadata": {},
   "outputs": [],
   "source": [
    "model.set_generation_params(\n",
    "    use_sampling=True,\n",
    "    top_k=250,\n",
    "    duration=5\n",
    ")"
   ]
  },
  {
   "cell_type": "markdown",
   "metadata": {},
   "source": [
    "### Text-conditional Generation"
   ]
  },
  {
   "cell_type": "code",
   "execution_count": 4,
   "metadata": {},
   "outputs": [],
   "source": [
    "def genfromtext(description, duration):\n",
    "    model.set_generation_params(use_sampling=True, duration=duration)   \n",
    "    audio_values = model.generate(descriptions= [description])\n",
    "    return (32000, audio_values.cpu().detach().numpy())"
   ]
  },
  {
   "cell_type": "markdown",
   "metadata": {},
   "source": [
    "### Melody-conditional Generation"
   ]
  },
  {
   "cell_type": "code",
   "execution_count": 5,
   "metadata": {},
   "outputs": [],
   "source": [
    "def genfromaudio(melody, description, duration):\n",
    "    model.set_generation_params(use_sampling=True, duration=duration)\n",
    "    melody_waveform, sr = torchaudio.load(melody)\n",
    "    melody_waveform = melody_waveform.unsqueeze(0).repeat(1, 1, 1)\n",
    "    audio_values = model.generate_with_chroma(descriptions=[description],melody_wavs=melody_waveform, melody_sample_rate=sr,progress=True)\n",
    "    return (32000, audio_values.cpu().detach().numpy())"
   ]
  },
  {
   "cell_type": "markdown",
   "metadata": {},
   "source": [
    "### Gradio Interface"
   ]
  },
  {
   "cell_type": "code",
   "execution_count": 6,
   "metadata": {},
   "outputs": [],
   "source": [
    "interface1 = gr.Interface(\n",
    "    genfromtext, inputs=[\n",
    "        gr.Text(label=\"Input Text\", interactive=True),\n",
    "        gr.Number(minimum=1, maximum=10, value=5, label=\"Duration\", interactive=True)\n",
    "    ], outputs=[\n",
    "        gr.Audio(type=\"numpy\",label=\"Generated Music\")\n",
    "    ],\n",
    "    description=\"Text-Conditional Generation\")"
   ]
  },
  {
   "cell_type": "code",
   "execution_count": 7,
   "metadata": {},
   "outputs": [],
   "source": [
    "interface2 = gr.Interface(\n",
    "    genfromaudio, inputs= [\n",
    "        gr.Audio(source=\"upload\", type=\"filepath\", label=\"Melody (Upload an audio with a max duration of 30sec)\", interactive=True),\n",
    "        gr.Text(label=\"Input Text\", interactive=True),\n",
    "        gr.Number(minimum=1, maximum=10, value=5, label=\"Duration\", interactive=True)\n",
    "    ], outputs=[\n",
    "        gr.Audio(type=\"numpy\", label=\"Generated Music\")\n",
    "    ],\n",
    "    description=\"Melody-Conditional Generation\")"
   ]
  },
  {
   "cell_type": "code",
   "execution_count": 8,
   "metadata": {},
   "outputs": [
    {
     "name": "stdout",
     "output_type": "stream",
     "text": [
      "Running on local URL:  http://127.0.0.1:7860\n",
      "\n",
      "To create a public link, set `share=True` in `launch()`.\n"
     ]
    },
    {
     "data": {
      "text/html": [
       "<div><iframe src=\"http://127.0.0.1:7860/\" width=\"100%\" height=\"500\" allow=\"autoplay; camera; microphone; clipboard-read; clipboard-write;\" frameborder=\"0\" allowfullscreen></iframe></div>"
      ],
      "text/plain": [
       "<IPython.core.display.HTML object>"
      ]
     },
     "metadata": {},
     "output_type": "display_data"
    },
    {
     "data": {
      "text/plain": []
     },
     "execution_count": 8,
     "metadata": {},
     "output_type": "execute_result"
    },
    {
     "name": "stdout",
     "output_type": "stream",
     "text": [
      "   203 /    200\r"
     ]
    }
   ],
   "source": [
    "title = \"Music Generation using Meta's MusicGen\"\n",
    "final_interface = gr.TabbedInterface([interface1, interface2], [\"Text-Conditional\", \"Melody-Conditional (Upload mp3 audio not exceeding 30sec)\"], title=title,theme=gr.themes.Default())\n",
    "final_interface.launch(inbrowser=True)"
   ]
  },
  {
   "cell_type": "code",
   "execution_count": null,
   "metadata": {},
   "outputs": [],
   "source": []
  }
 ],
 "metadata": {
  "kernelspec": {
   "display_name": "Python 3 (ipykernel)",
   "language": "python",
   "name": "python3"
  },
  "language_info": {
   "codemirror_mode": {
    "name": "ipython",
    "version": 3
   },
   "file_extension": ".py",
   "mimetype": "text/x-python",
   "name": "python",
   "nbconvert_exporter": "python",
   "pygments_lexer": "ipython3",
   "version": "3.9.8"
  }
 },
 "nbformat": 4,
 "nbformat_minor": 2
}
